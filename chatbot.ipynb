{
  "nbformat": 4,
  "nbformat_minor": 0,
  "metadata": {
    "colab": {
      "name": "chatbot.ipynb",
      "provenance": [],
      "collapsed_sections": []
    },
    "kernelspec": {
      "name": "python3",
      "display_name": "Python 3"
    },
    "language_info": {
      "name": "python"
    }
  },
  "cells": [
    {
      "cell_type": "code",
      "source": [
        "import numpy as np"
      ],
      "metadata": {
        "id": "W___d8-U7nxd"
      },
      "execution_count": 35,
      "outputs": []
    },
    {
      "cell_type": "code",
      "source": [
        "from google.colab import drive\n",
        "drive.mount('/content/drive')"
      ],
      "metadata": {
        "colab": {
          "base_uri": "https://localhost:8080/"
        },
        "id": "Acw3X0gM7rYw",
        "outputId": "d112856f-72c0-4018-8356-d8506b95c350"
      },
      "execution_count": 38,
      "outputs": [
        {
          "output_type": "stream",
          "name": "stdout",
          "text": [
            "Mounted at /content/drive\n"
          ]
        }
      ]
    },
    {
      "cell_type": "markdown",
      "source": [
        "# Preparação de Dados"
      ],
      "metadata": {
        "id": "nKI0vX7k7WlC"
      }
    },
    {
      "cell_type": "code",
      "source": [
        "from google.colab import auth\n",
        "auth.authenticate_user()\n",
        "\n",
        "import gspread\n",
        "from google.auth import default\n",
        "creds, _ = default()\n",
        "\n",
        "gc = gspread.authorize(creds)\n",
        "\n",
        "worksheet = gc.open('garcom').sheet1"
      ],
      "metadata": {
        "id": "nFP5-YG-9y6B"
      },
      "execution_count": 39,
      "outputs": []
    },
    {
      "cell_type": "markdown",
      "source": [
        "# Integração com Telegram"
      ],
      "metadata": {
        "id": "9PhcYVaqcZqf"
      }
    },
    {
      "cell_type": "markdown",
      "source": [
        "Intalando biblioteca e importando módulos"
      ],
      "metadata": {
        "id": "OIskAJ4Fcovr"
      }
    },
    {
      "cell_type": "code",
      "execution_count": 1,
      "metadata": {
        "colab": {
          "base_uri": "https://localhost:8080/"
        },
        "id": "Cb7rbRRkcYs5",
        "outputId": "d0f348e2-6c45-4532-df1c-87ac05c4963f"
      },
      "outputs": [
        {
          "output_type": "stream",
          "name": "stdout",
          "text": [
            "Requirement already satisfied: python-telegram-bot in /usr/local/lib/python3.7/dist-packages (13.11)\n",
            "Requirement already satisfied: pytz>=2018.6 in /usr/local/lib/python3.7/dist-packages (from python-telegram-bot) (2018.9)\n",
            "Requirement already satisfied: cachetools==4.2.2 in /usr/local/lib/python3.7/dist-packages (from python-telegram-bot) (4.2.2)\n",
            "Requirement already satisfied: certifi in /usr/local/lib/python3.7/dist-packages (from python-telegram-bot) (2021.10.8)\n",
            "Requirement already satisfied: tornado>=6.1 in /usr/local/lib/python3.7/dist-packages (from python-telegram-bot) (6.1)\n",
            "Requirement already satisfied: APScheduler==3.6.3 in /usr/local/lib/python3.7/dist-packages (from python-telegram-bot) (3.6.3)\n",
            "Requirement already satisfied: six>=1.4.0 in /usr/local/lib/python3.7/dist-packages (from APScheduler==3.6.3->python-telegram-bot) (1.15.0)\n",
            "Requirement already satisfied: tzlocal>=1.2 in /usr/local/lib/python3.7/dist-packages (from APScheduler==3.6.3->python-telegram-bot) (1.5.1)\n",
            "Requirement already satisfied: setuptools>=0.7 in /usr/local/lib/python3.7/dist-packages (from APScheduler==3.6.3->python-telegram-bot) (57.4.0)\n"
          ]
        }
      ],
      "source": [
        "!pip install python-telegram-bot --upgrade"
      ]
    },
    {
      "cell_type": "code",
      "source": [
        "from telegram import Update, ForceReply\n",
        "from telegram.ext import Updater, CommandHandler, MessageHandler, Filters, CallbackContext"
      ],
      "metadata": {
        "id": "DNpwFK3YdBjA"
      },
      "execution_count": 30,
      "outputs": []
    },
    {
      "cell_type": "markdown",
      "source": [
        "Definindo funções de processamento"
      ],
      "metadata": {
        "id": "1sJXAkOtddsJ"
      }
    },
    {
      "cell_type": "code",
      "source": [
        "def echo(update: Update, context: CallbackContext) -> None:\n",
        "    msg = update.message.text\n",
        "    update.message.reply_text(msg)"
      ],
      "metadata": {
        "id": "DGJNV0UNVDka"
      },
      "execution_count": 32,
      "outputs": []
    },
    {
      "cell_type": "code",
      "source": [
        "def start(update: Update, context: CallbackContext):\n",
        "    context.bot.send_message(chat_id=update.effective_chat.id, text=\"Olá, sou o chatbot da Pizzaria GC. Posso ajudá-lo?\")"
      ],
      "metadata": {
        "id": "tk2fpS5kiq0Z"
      },
      "execution_count": 33,
      "outputs": []
    },
    {
      "cell_type": "code",
      "source": [
        "def main() -> None:\n",
        "    updater = Updater(\"5267043465:AAG-zHQWpq86sw-J_EEo4xqbOs979KUaHm8\")\n",
        "\n",
        "    dispatcher = updater.dispatcher\n",
        "\n",
        "    start_handler = CommandHandler('start', start)\n",
        "    dispatcher.add_handler(start_handler)\n",
        "    \n",
        "   # on non command i.e message - echo the message on Telegram\n",
        "    dispatcher.add_handler(MessageHandler(Filters.text & ~Filters.command, echo))\n",
        "\n",
        "    # Start the Bot\n",
        "    updater.start_polling()\n",
        "\n",
        "    updater.idle()"
      ],
      "metadata": {
        "id": "L4U48KrNd1aD"
      },
      "execution_count": 26,
      "outputs": []
    },
    {
      "cell_type": "markdown",
      "source": [
        "Executando Main"
      ],
      "metadata": {
        "id": "FugxziOMdq6j"
      }
    },
    {
      "cell_type": "code",
      "source": [
        "main()"
      ],
      "metadata": {
        "id": "gQAzowsNivfL"
      },
      "execution_count": 34,
      "outputs": []
    },
    {
      "cell_type": "code",
      "source": [
        "#main()"
      ],
      "metadata": {
        "id": "j5kUoT8FdstB"
      },
      "execution_count": 19,
      "outputs": []
    }
  ]
}